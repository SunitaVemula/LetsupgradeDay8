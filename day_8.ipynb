{
 "cells": [
  {
   "cell_type": "code",
   "execution_count": 1,
   "metadata": {},
   "outputs": [
    {
     "name": "stdout",
     "output_type": "stream",
     "text": [
      "Please enter any combination's of 1's and 0's: 101\n",
      "YES\n"
     ]
    }
   ],
   "source": [
    "D =input(\"Please enter any combination's of 1's and 0's: \")\n",
    "zeros = 0\n",
    "for i in D:\n",
    "    if i == '0':\n",
    "        zeros += 1\n",
    "if zeros == 1 or zeros == len(D)-1:\n",
    "    print ('YES')\n",
    "else:\n",
    "    print ('NO')"
   ]
  },
  {
   "cell_type": "code",
   "execution_count": 2,
   "metadata": {},
   "outputs": [
    {
     "name": "stdout",
     "output_type": "stream",
     "text": [
      "Please enter any combination's of 1's and 0's: 11\n",
      "NO\n"
     ]
    }
   ],
   "source": [
    "D =input(\"Please enter any combination's of 1's and 0's: \")\n",
    "zeros = 0\n",
    "for i in D:\n",
    "    if i == '0':\n",
    "        zeros += 1\n",
    "if zeros == 1 or zeros == len(D)-1:\n",
    "    print ('YES')\n",
    "else:\n",
    "    print ('NO')"
   ]
  },
  {
   "cell_type": "code",
   "execution_count": null,
   "metadata": {},
   "outputs": [],
   "source": []
  }
 ],
 "metadata": {
  "kernelspec": {
   "display_name": "Python 3",
   "language": "python",
   "name": "python3"
  },
  "language_info": {
   "codemirror_mode": {
    "name": "ipython",
    "version": 3
   },
   "file_extension": ".py",
   "mimetype": "text/x-python",
   "name": "python",
   "nbconvert_exporter": "python",
   "pygments_lexer": "ipython3",
   "version": "3.7.3"
  }
 },
 "nbformat": 4,
 "nbformat_minor": 2
}
